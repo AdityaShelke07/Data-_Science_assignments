{
  "nbformat": 4,
  "nbformat_minor": 0,
  "metadata": {
    "colab": {
      "provenance": []
    },
    "kernelspec": {
      "name": "python3",
      "display_name": "Python 3"
    },
    "language_info": {
      "name": "python"
    }
  },
  "cells": [
    {
      "cell_type": "code",
      "execution_count": null,
      "metadata": {
        "id": "IIauSzQBMnRj"
      },
      "outputs": [],
      "source": [
        "import pandas as pd\n",
        "import numpy as np\n",
        "from scipy import stats\n",
        "import math"
      ]
    },
    {
      "cell_type": "markdown",
      "source": [
        "Hypothesis statement"
      ],
      "metadata": {
        "id": "8txEjtUDZ2VY"
      }
    },
    {
      "cell_type": "code",
      "source": [
        "#null hypothesis (h0) - current cost model is accurate -- h0 = 4000.\n",
        "#alternate hypothesis(h1)- current cost model is inaccurate h0 != 4000."
      ],
      "metadata": {
        "id": "-W9Qjv09Z6Oa"
      },
      "execution_count": null,
      "outputs": []
    },
    {
      "cell_type": "code",
      "source": [
        "# we go with z test because sigma is knone\n",
        "#sample mean = 3050.\n",
        "#population mean = 4000\n",
        "#sigma = 125\n",
        "#sample size(n)= 25\n"
      ],
      "metadata": {
        "id": "UJK0DioPcrIT"
      },
      "execution_count": null,
      "outputs": []
    },
    {
      "cell_type": "markdown",
      "source": [
        "calculate test statistics\n"
      ],
      "metadata": {
        "id": "xFCa9t1Z2aTM"
      }
    },
    {
      "cell_type": "code",
      "source": [
        "# by using z test formula-\n",
        "# (sample mean - population mean) / ( sigma /(n)^1/2)\n",
        "(3050 - 4000) / (125 / (math.sqrt(25)))\n"
      ],
      "metadata": {
        "colab": {
          "base_uri": "https://localhost:8080/"
        },
        "id": "blvRMhlGdsuS",
        "outputId": "974f9046-0cba-4cad-b89c-1a0959e07670"
      },
      "execution_count": null,
      "outputs": [
        {
          "output_type": "execute_result",
          "data": {
            "text/plain": [
              "-38.0"
            ]
          },
          "metadata": {},
          "execution_count": 16
        }
      ]
    },
    {
      "cell_type": "code",
      "source": [
        "#The Z-test result is -38. This is a very large negative value, indicating a significant difference between the sample mean and the population mean. It suggests that the observed weekly operating costs for the sample of restaurants are significantly lower than what would be expected based on the theoretical model."
      ],
      "metadata": {
        "id": "7BStq5VYekoC"
      },
      "execution_count": null,
      "outputs": []
    },
    {
      "cell_type": "markdown",
      "source": [
        "determine critical value"
      ],
      "metadata": {
        "id": "0ZX1HGcR3hnA"
      }
    },
    {
      "cell_type": "code",
      "source": [
        "#Using the alpha level of 5% (α = 0.05), determine the critical value from the standard normal (Z) distribution table."
      ],
      "metadata": {
        "id": "eL4hGBLm3j-w"
      },
      "execution_count": null,
      "outputs": []
    },
    {
      "cell_type": "code",
      "source": [
        "# it is a two tailed test\n",
        "#Since our alternative hypothesis is μ ≠ $4000 (not equal to), we are conducting a two-tailed test.\n",
        "#This means we need to consider critical values in both tails of the distribution."
      ],
      "metadata": {
        "id": "FkPOqS1W4GR_"
      },
      "execution_count": null,
      "outputs": []
    },
    {
      "cell_type": "code",
      "source": [
        "# z-distribution\n",
        "#Since we are using a Z-test, we will use the standard normal distribution (Z-distribution) to find the critical value."
      ],
      "metadata": {
        "id": "SnMmK33C4LRH"
      },
      "execution_count": null,
      "outputs": []
    },
    {
      "cell_type": "code",
      "source": [
        "# lets calculate p value\n",
        "# since it is two tailed you have to multiply it with 2\n",
        "p_value =  1- stats.norm.cdf(-38,4000,125) *2\n",
        "p_value"
      ],
      "metadata": {
        "colab": {
          "base_uri": "https://localhost:8080/"
        },
        "id": "jFZ6-Oxy4mjY",
        "outputId": "71fb556b-0afe-416e-bd71-4bfc51f3dca3"
      },
      "execution_count": null,
      "outputs": [
        {
          "output_type": "execute_result",
          "data": {
            "text/plain": [
              "1.0"
            ]
          },
          "metadata": {},
          "execution_count": 37
        }
      ]
    },
    {
      "cell_type": "markdown",
      "source": [
        "decision"
      ],
      "metadata": {
        "id": "xFRyAx4SJHIt"
      }
    },
    {
      "cell_type": "code",
      "source": [
        "# since the p value is = 0 , and p>alpha hence accept null hypothesis."
      ],
      "metadata": {
        "id": "ZsNCaXfd6I7E"
      },
      "execution_count": null,
      "outputs": []
    },
    {
      "cell_type": "code",
      "source": [],
      "metadata": {
        "id": "RTqS8fnAAR1B"
      },
      "execution_count": null,
      "outputs": []
    },
    {
      "cell_type": "markdown",
      "source": [
        "colclusion"
      ],
      "metadata": {
        "id": "bK1J5_uYJKz3"
      }
    },
    {
      "cell_type": "code",
      "source": [
        "# Given that the p-value is very close to 1, it indicates that there is insufficient evidence to reject the null hypothesis.\n",
        "# hence current cost model is accurate."
      ],
      "metadata": {
        "id": "2FOxH0ocJRH4"
      },
      "execution_count": null,
      "outputs": []
    }
  ]
}