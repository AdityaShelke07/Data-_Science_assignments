{
  "nbformat": 4,
  "nbformat_minor": 0,
  "metadata": {
    "colab": {
      "provenance": []
    },
    "kernelspec": {
      "name": "python3",
      "display_name": "Python 3"
    },
    "language_info": {
      "name": "python"
    }
  },
  "cells": [
    {
      "cell_type": "code",
      "execution_count": null,
      "metadata": {
        "id": "kx7Jj_MkYIJm"
      },
      "outputs": [],
      "source": []
    },
    {
      "cell_type": "markdown",
      "source": [
        "# Excercise 1: prime number"
      ],
      "metadata": {
        "id": "VFF6LdI7Ynrd"
      }
    },
    {
      "cell_type": "code",
      "source": [
        "number = int(input('enter a number'))\n",
        "\n",
        "for i in range(2,number):\n",
        "  if number % i == 0:\n",
        "    print(number, 'is not a prime number')\n",
        "    break\n",
        "else:\n",
        "  print(number, 'is  a prime number')"
      ],
      "metadata": {
        "colab": {
          "base_uri": "https://localhost:8080/"
        },
        "id": "i56J8wsrYrTR",
        "outputId": "12b3eba2-97bf-4e87-d821-372a774e2cc9"
      },
      "execution_count": null,
      "outputs": [
        {
          "output_type": "stream",
          "name": "stdout",
          "text": [
            "enter a number4\n",
            "4 is not a prime number\n"
          ]
        }
      ]
    },
    {
      "cell_type": "markdown",
      "source": [
        "#Excercise 2: Product of random numbers"
      ],
      "metadata": {
        "id": "jmTmM7v9dVIi"
      }
    },
    {
      "cell_type": "code",
      "source": [
        "import random\n",
        "\n",
        "num1 = random.randint(1,10)# generating random numbers\n",
        "print(num1)\n",
        "num2 = random.randint(1,10)\n",
        "print(num2)\n",
        "\n",
        "product = num1*num2# product\n",
        "\n",
        "guess = int(input('enter your guess'))\n",
        "if guess == product:\n",
        "  print('correct')\n",
        "else:\n",
        "  print('incorrect')"
      ],
      "metadata": {
        "colab": {
          "base_uri": "https://localhost:8080/"
        },
        "id": "Km9zSBLldkB9",
        "outputId": "9439f34c-6259-46ca-c8e9-9d148ff9d432"
      },
      "execution_count": null,
      "outputs": [
        {
          "output_type": "stream",
          "name": "stdout",
          "text": [
            "9\n",
            "5\n",
            "enter your guess45\n",
            "correct\n"
          ]
        }
      ]
    },
    {
      "cell_type": "markdown",
      "source": [
        "#Exercise 3: Squares of Even/Odd Numbers"
      ],
      "metadata": {
        "id": "zRcvLDZki03B"
      }
    },
    {
      "cell_type": "code",
      "source": [
        "z = input('enter odd or even')\n",
        "\n",
        "for i in range (100,200): # defining range\n",
        "  if z == 'even':\n",
        "    if i % 2 ==0:  # for even\n",
        "     square = i**2\n",
        "     print(square)\n",
        "  elif z == 'odd':\n",
        "    if i % 2 !=0:# for odd\n",
        "     square = i**2\n",
        "     print(square)"
      ],
      "metadata": {
        "colab": {
          "base_uri": "https://localhost:8080/"
        },
        "id": "PIv_TUSflCiN",
        "outputId": "21816404-1b5a-454f-ef30-e99fbb6db460"
      },
      "execution_count": null,
      "outputs": [
        {
          "output_type": "stream",
          "name": "stdout",
          "text": [
            "enter odd or evenodd\n",
            "10201\n",
            "10609\n",
            "11025\n",
            "11449\n",
            "11881\n",
            "12321\n",
            "12769\n",
            "13225\n",
            "13689\n",
            "14161\n",
            "14641\n",
            "15129\n",
            "15625\n",
            "16129\n",
            "16641\n",
            "17161\n",
            "17689\n",
            "18225\n",
            "18769\n",
            "19321\n",
            "19881\n",
            "20449\n",
            "21025\n",
            "21609\n",
            "22201\n",
            "22801\n",
            "23409\n",
            "24025\n",
            "24649\n",
            "25281\n",
            "25921\n",
            "26569\n",
            "27225\n",
            "27889\n",
            "28561\n",
            "29241\n",
            "29929\n",
            "30625\n",
            "31329\n",
            "32041\n",
            "32761\n",
            "33489\n",
            "34225\n",
            "34969\n",
            "35721\n",
            "36481\n",
            "37249\n",
            "38025\n",
            "38809\n",
            "39601\n"
          ]
        }
      ]
    },
    {
      "cell_type": "markdown",
      "source": [
        "#Excercise 4: Word counter"
      ],
      "metadata": {
        "id": "inVlP21dgWx_"
      }
    },
    {
      "cell_type": "code",
      "source": [
        "sentence = input('enter a sentence')\n",
        "words = sentence.split()\n",
        "print(words)\n",
        "print(len(words))"
      ],
      "metadata": {
        "colab": {
          "base_uri": "https://localhost:8080/"
        },
        "id": "x-f_TVwrfNpO",
        "outputId": "50a46235-8045-4b57-aefa-529cf13c55ca"
      },
      "execution_count": null,
      "outputs": [
        {
          "output_type": "stream",
          "name": "stdout",
          "text": [
            "enter a sentencedsfv ds\n",
            "['dsfv', 'ds']\n",
            "2\n"
          ]
        }
      ]
    },
    {
      "cell_type": "markdown",
      "source": [
        "#Excercise 5: check for panlindrome\n"
      ],
      "metadata": {
        "id": "twqNWo4cgjla"
      }
    },
    {
      "cell_type": "code",
      "source": [
        "string1 = input('enter a string')\n",
        "def is_palindrome(string):\n",
        "  stringflt = string.replace(' ','')# removing white spaces\n",
        "  print(stringflt)\n",
        "  if stringflt == stringflt[::-1]:#doing reverse\n",
        "   print('palindrome')\n",
        "  else:\n",
        "   print('not palindrome')\n",
        "\n",
        "\n",
        "is_palindrome(string1)\n"
      ],
      "metadata": {
        "colab": {
          "base_uri": "https://localhost:8080/"
        },
        "id": "OVKpwIfdgvLo",
        "outputId": "cd4f4252-e946-456e-c98d-91ee2a1eba11"
      },
      "execution_count": null,
      "outputs": [
        {
          "output_type": "stream",
          "name": "stdout",
          "text": [
            "enter a stringomo omo\n",
            "omoomo\n",
            "palindrome\n"
          ]
        }
      ]
    },
    {
      "cell_type": "code",
      "source": [],
      "metadata": {
        "id": "g8-Sm1Y6imAL"
      },
      "execution_count": null,
      "outputs": []
    }
  ]
}