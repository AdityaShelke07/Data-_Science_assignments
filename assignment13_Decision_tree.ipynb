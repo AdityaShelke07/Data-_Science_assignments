{
  "nbformat": 4,
  "nbformat_minor": 0,
  "metadata": {
    "colab": {
      "provenance": []
    },
    "kernelspec": {
      "name": "python3",
      "display_name": "Python 3"
    },
    "language_info": {
      "name": "python"
    }
  },
  "cells": [
    {
      "cell_type": "code",
      "source": [
        "import pandas as pd\n",
        "import numpy as np\n",
        "import matplotlib.pyplot as plt\n",
        "import seaborn as sns\n",
        "import warnings   # importing libraries\n",
        "warnings.filterwarnings('ignore')\n",
        "from sklearn.model_selection import train_test_split\n",
        "from sklearn.tree import DecisionTreeClassifier\n",
        "from sklearn.metrics import accuracy_score, precision_score, recall_score, f1_score, roc_auc_score\n",
        "from sklearn.preprocessing import OneHotEncoder\n",
        "from sklearn.preprocessing import StandardScaler\n",
        "from sklearn.model_selection import GridSearchCV"
      ],
      "metadata": {
        "id": "QhfNru-qAL6n"
      },
      "execution_count": null,
      "outputs": []
    },
    {
      "cell_type": "code",
      "source": [
        "df = pd.read_excel('/content/heart_disease.xlsx',sheet_name='Heart_disease')"
      ],
      "metadata": {
        "id": "XAMcW5yeAOMD"
      },
      "execution_count": null,
      "outputs": []
    },
    {
      "cell_type": "markdown",
      "source": [
        "#EDA"
      ],
      "metadata": {
        "id": "2jOh3ZZoGYNN"
      }
    },
    {
      "cell_type": "code",
      "source": [
        "df.head(5)"
      ],
      "metadata": {
        "id": "wQ2O4GVJAXuj"
      },
      "execution_count": null,
      "outputs": []
    },
    {
      "cell_type": "code",
      "source": [
        "df.shape\n",
        "# there are total 908 rows and 13 columns in the dataset"
      ],
      "metadata": {
        "id": "jMKbk6HzAbBz"
      },
      "execution_count": null,
      "outputs": []
    },
    {
      "cell_type": "code",
      "source": [
        "df.info()\n",
        "# as we can see there are 6 numerical colums, 4 categorical clumns , 1 boolian value column\n",
        "\n"
      ],
      "metadata": {
        "id": "6vNE80ijFKtV"
      },
      "execution_count": null,
      "outputs": []
    },
    {
      "cell_type": "markdown",
      "source": [
        "##check for missing values"
      ],
      "metadata": {
        "id": "lXlv8QsnGbG0"
      }
    },
    {
      "cell_type": "code",
      "source": [
        "df.isna().sum()"
      ],
      "metadata": {
        "id": "JTaiLMSQFUWI"
      },
      "execution_count": null,
      "outputs": []
    },
    {
      "cell_type": "code",
      "source": [
        "# there are missing values in the colum oldpeak\n",
        "# so we are going to replace them with median\n",
        "df['oldpeak'].fillna(df['oldpeak'].median(), inplace=True)\n",
        "df"
      ],
      "metadata": {
        "id": "KZoL3GaoGjCG"
      },
      "execution_count": null,
      "outputs": []
    },
    {
      "cell_type": "code",
      "source": [
        "df.isna().sum() # now there are 0 mising values"
      ],
      "metadata": {
        "id": "TG6sU0Gudl1Z"
      },
      "execution_count": null,
      "outputs": []
    },
    {
      "cell_type": "markdown",
      "source": [
        "## outliers"
      ],
      "metadata": {
        "id": "W8camHMlG9LX"
      }
    },
    {
      "cell_type": "code",
      "source": [
        "numerical_columns = df.select_dtypes(include=['number']).columns\n",
        "# checking outliers of numrical columns\n",
        "# Create boxplot for selected numerical columns\n",
        "plt.boxplot([df[col] for col in numerical_columns], labels=numerical_columns)"
      ],
      "metadata": {
        "id": "n0cOfg1WN-5y"
      },
      "execution_count": null,
      "outputs": []
    },
    {
      "cell_type": "markdown",
      "source": [
        "#Feature engineering"
      ],
      "metadata": {
        "id": "mdQkFcEDetox"
      }
    },
    {
      "cell_type": "code",
      "source": [
        "\n",
        "categorical_columns = df.select_dtypes(include=['object']).columns\n",
        "categorical_columns\n",
        "# getting categorical features"
      ],
      "metadata": {
        "id": "34y3dAO3RbZ-"
      },
      "execution_count": null,
      "outputs": []
    },
    {
      "cell_type": "code",
      "source": [
        "categorical_features = ['sex', 'cp', 'restecg', 'exang', 'slope', 'thal']\n",
        "df = pd.get_dummies(df, columns=categorical_features, drop_first=True,dtype = int)"
      ],
      "metadata": {
        "id": "cDm_cS4xOH7n"
      },
      "execution_count": null,
      "outputs": []
    },
    {
      "cell_type": "code",
      "source": [
        "df"
      ],
      "metadata": {
        "id": "OAxOr9X4QLoi"
      },
      "execution_count": null,
      "outputs": []
    },
    {
      "cell_type": "markdown",
      "source": [
        "## standardization"
      ],
      "metadata": {
        "id": "OYDQt6t9t_1E"
      }
    },
    {
      "cell_type": "code",
      "source": [
        "# scaler = StandardScaler()  # creating instance of standardscaler() class as scaler"
      ],
      "metadata": {
        "id": "fL6SDr6LSc5r"
      },
      "execution_count": null,
      "outputs": []
    },
    {
      "cell_type": "code",
      "source": [
        "# df.columns\n",
        "# features_for_standardization = ['age', 'trestbps', 'chol','thalch']"
      ],
      "metadata": {
        "id": "XZK-EmLM5p6B"
      },
      "execution_count": null,
      "outputs": []
    },
    {
      "cell_type": "code",
      "source": [
        "# df[features_for_standardization] = scaler.fit_transform(df[features_for_standardization])  # fitting and transforming at same time\n"
      ],
      "metadata": {
        "id": "A8LJdZNOTEqJ"
      },
      "execution_count": null,
      "outputs": []
    },
    {
      "cell_type": "code",
      "source": [
        "# df = pd.DataFrame(scaled_df, columns=df.columns)\n",
        "df"
      ],
      "metadata": {
        "id": "fZ19Y-EZuTOA"
      },
      "execution_count": null,
      "outputs": []
    },
    {
      "cell_type": "markdown",
      "source": [
        "## Splitting data into training and testing"
      ],
      "metadata": {
        "id": "K2Nyyk4q7rio"
      }
    },
    {
      "cell_type": "code",
      "source": [
        "# Split the scaled DataFrame into training and testing sets\n",
        "x = df[[col for col in df.columns if col != 'num']]\n",
        "y = df['num']\n",
        "x_train, x_test, y_train, y_test = train_test_split(x,y,test_size=0.2,random_state=42)"
      ],
      "metadata": {
        "id": "9F_hWGwN5yzK"
      },
      "execution_count": null,
      "outputs": []
    },
    {
      "cell_type": "markdown",
      "source": [
        "##making decision tree model"
      ],
      "metadata": {
        "id": "8GIl6P06BnmA"
      }
    },
    {
      "cell_type": "code",
      "source": [
        "# Create a DecisionTreeClassifier instance with desired hyperparameters\n",
        "model = DecisionTreeClassifier(max_depth=5, random_state=42)"
      ],
      "metadata": {
        "id": "nwk_kfV7BsNc"
      },
      "execution_count": null,
      "outputs": []
    },
    {
      "cell_type": "code",
      "source": [
        "# Train the model using the training data\n",
        "model.fit(x_train, y_train)"
      ],
      "metadata": {
        "id": "MveDuzDx8UV_"
      },
      "execution_count": null,
      "outputs": []
    },
    {
      "cell_type": "code",
      "source": [
        "y_pred = model.predict(x_test)"
      ],
      "metadata": {
        "id": "lA-8yVMzBxKT"
      },
      "execution_count": null,
      "outputs": []
    },
    {
      "cell_type": "code",
      "source": [
        "# Accuracy\n",
        "accuracy = accuracy_score(y_test, y_pred)\n",
        "print(f\"Accuracy: {accuracy}\")\n",
        "\n",
        "# Precision\n",
        "precision = precision_score(y_test, y_pred, average='weighted')  # Specify average for multiclass\n",
        "print(f\"Precision: {precision}\")\n",
        "\n",
        "# Recall\n",
        "recall = recall_score(y_test, y_pred, average='weighted')  # Specify average for multiclass\n",
        "print(f\"Recall: {recall}\")\n",
        "\n",
        "# F1-score\n",
        "f1 = f1_score(y_test, y_pred, average='weighted')  # Specify average for multiclass\n",
        "print(f\"F1-score: {f1}\")\n",
        "\n",
        "\n"
      ],
      "metadata": {
        "id": "CxbuzaQPLrh3"
      },
      "execution_count": null,
      "outputs": []
    },
    {
      "cell_type": "markdown",
      "source": [
        "#Hyperparameter Tuning:"
      ],
      "metadata": {
        "id": "YU5JJR__PDVT"
      }
    },
    {
      "cell_type": "code",
      "source": [
        "\n",
        "\n",
        "\n",
        "# Define the hyperparameter grid to search\n",
        "param_grid = {\n",
        "    'max_depth': [3, 5, 7, 10, 15, 20, 30 , None],  # Explore different maximum depths\n",
        "    'min_samples_split': [2, 5, 10, 15,20,30,40],  # Explore different minimum samples to split a node\n",
        "    'criterion': ['gini', 'entropy'],\n",
        "    # Explore different split criteria\n",
        "}\n",
        "\n",
        "# Create a DecisionTreeClassifier instance\n",
        "model = DecisionTreeClassifier(random_state=42)\n",
        "\n",
        "# Create GridSearchCV object\n",
        "grid_search = GridSearchCV(estimator=model, param_grid=param_grid, scoring='accuracy', cv=5)  # Use 5-fold cross-validation\n",
        "\n",
        "# Fit the grid search to the training data\n",
        "grid_search.fit(x_train, y_train)\n",
        "\n",
        "# Get the best hyperparameters\n",
        "best_params = grid_search.best_params_\n",
        "print(f\"Best Hyperparameters: {best_params}\")\n",
        "\n",
        "# Get the best model\n",
        "best_model = grid_search.best_estimator_\n",
        "\n",
        "# Make predictions on the test data using the best model\n",
        "y_pred = best_model.predict(x_test)\n",
        "\n",
        "\n",
        "\n",
        "\n",
        "# Evaluate the model\n",
        "accuracy = accuracy_score(y_test, y_pred)\n",
        "precision = precision_score(y_test, y_pred, average='weighted')\n",
        "recall = recall_score(y_test, y_pred, average='weighted')\n",
        "f1 = f1_score(y_test, y_pred, average='weighted')\n",
        "\n",
        "\n",
        "print(f\"Accuracy: {accuracy}\")\n",
        "print(f\"Precision: {precision}\")\n",
        "print(f\"Recall: {recall}\")\n",
        "print(f\"F1-score: {f1}\")\n"
      ],
      "metadata": {
        "id": "IUUfQfFQMAUf"
      },
      "execution_count": null,
      "outputs": []
    },
    {
      "cell_type": "code",
      "source": [],
      "metadata": {
        "id": "kehoZcUxPkgl"
      },
      "execution_count": null,
      "outputs": []
    },
    {
      "cell_type": "markdown",
      "source": [
        "#Model Evaluation and Analysis:"
      ],
      "metadata": {
        "id": "8of0gMiXcCgc"
      }
    },
    {
      "cell_type": "code",
      "source": [
        "from sklearn.tree import plot_tree\n",
        "\n",
        "# Assuming 'best_model' is your trained Decision Tree model\n",
        "plt.figure(figsize=(12, 8))  # Adjust figure size as needed\n",
        "plot_tree(best_model, filled=True, rounded=True)\n",
        "plt.show()"
      ],
      "metadata": {
        "colab": {
          "base_uri": "https://localhost:8080/",
          "height": 437
        },
        "id": "CKWRFx5FcIi8",
        "outputId": "c191c2f9-4511-4131-f9b8-9d94e42d3391"
      },
      "execution_count": null,
      "outputs": [
        {
          "output_type": "display_data",
          "data": {
            "text/plain": [
              "<Figure size 1200x800 with 1 Axes>"
            ],
            "image/png": "[encoded data removed]"
          },
          "metadata": {}
        }
      ]
    },
    {
      "cell_type": "markdown",
      "source": [
        "#Interview Questions:\n"
      ],
      "metadata": {
        "id": "q6DTNWCxJIN8"
      }
    },
    {
      "cell_type": "markdown",
      "source": [
        "1>What are some common hyperparameters of decision tree models, and how do they affect the model's performance? give answer in 5-6 lines\n",
        "\n",
        "ans.\n",
        "\n",
        "max_depth -\tLimits the tree's depth, preventing overfitting if set too high, underfitting if set too low.\n",
        "\n",
        "min_samples_split\t- Minimum samples needed to split a node. Higher values prevent overfitting but may underfit.\n",
        "\n",
        "min_samples_leaf -\tMinimum samples required in a leaf node. Similar effect to min_samples_split.\n",
        "\n",
        "criterion\t- Measures split quality (e.g., 'gini', 'entropy'). Impacts how the tree makes decisions.\n",
        "\n",
        "max_features\t- Number of features considered for each split. Can reduce overfitting if limited."
      ],
      "metadata": {
        "id": "VgG80qZ1JeRM"
      }
    },
    {
      "cell_type": "markdown",
      "source": [
        "2> What is the difference between the Label encoding and One-hot encoding?\n",
        "\n",
        "Label Encoding assigns a unique integer to each category in a categorical feature.\n",
        "\n",
        " One-Hot Encoding creates a new binary feature for each category, where a 1 indicates the presence of that category and 0 indicates its absence."
      ],
      "metadata": {
        "id": "WQu1jD2oJuz8"
      }
    },
    {
      "cell_type": "code",
      "source": [],
      "metadata": {
        "id": "KyBTpOB4c-AA"
      },
      "execution_count": null,
      "outputs": []
    }
  ]
}